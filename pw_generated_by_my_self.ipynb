{
  "nbformat": 4,
  "nbformat_minor": 0,
  "metadata": {
    "colab": {
      "provenance": [],
      "authorship_tag": "ABX9TyMqnxw+AgD5lUMnVuW9XV+I",
      "include_colab_link": true
    },
    "kernelspec": {
      "name": "python3",
      "display_name": "Python 3"
    },
    "language_info": {
      "name": "python"
    }
  },
  "cells": [
    {
      "cell_type": "markdown",
      "metadata": {
        "id": "view-in-github",
        "colab_type": "text"
      },
      "source": [
        "<a href=\"https://colab.research.google.com/github/2303A52328/ai/blob/main/pw_generated_by_my_self.ipynb\" target=\"_parent\"><img src=\"https://colab.research.google.com/assets/colab-badge.svg\" alt=\"Open In Colab\"/></a>"
      ]
    },
    {
      "cell_type": "code",
      "source": [
        "import string\n",
        "\n",
        "def is_strong(password):\n",
        "    has_upper = any(c.isupper() for c in password)\n",
        "    has_lower = any(c.islower() for c in password)\n",
        "    has_digit = any(c.isdigit() for c in password)\n",
        "    has_special = any(c in string.punctuation for c in password)\n",
        "    is_long_enough = len(password) >= 8\n",
        "    return all([has_upper, has_lower, has_digit, has_special, is_long_enough])\n",
        "\n",
        "# ----------- User Enters Their Own Password -----------\n",
        "print(\"🔐 Set Your Own Password 🔐\")\n",
        "password = input(\"Enter your desired password: \")\n",
        "\n",
        "if is_strong(password):\n",
        "    print(\"✅ Password accepted. It is strong.\")\n",
        "else:\n",
        "    print(\"⚠️ Password is weak. Try to include:\")\n",
        "    print(\"- At least 8 characters\")\n",
        "    print(\"- Uppercase and lowercase letters\")\n",
        "    print(\"- Digits (0-9)\")\n",
        "    print(\"- Special characters (e.g., !, @, #)\")\n",
        "\n",
        "# Optional: You could prompt again until a strong password is entered.\n"
      ],
      "metadata": {
        "colab": {
          "base_uri": "https://localhost:8080/"
        },
        "id": "KvWzHEwWGn5R",
        "outputId": "36f6200c-1926-4057-df66-6546d64dd01d"
      },
      "execution_count": 6,
      "outputs": [
        {
          "output_type": "stream",
          "name": "stdout",
          "text": [
            "🔐 Set Your Own Password 🔐\n",
            "Enter your desired password: Pandu_27\n",
            "✅ Password accepted. It is strong.\n"
          ]
        }
      ]
    }
  ]
}